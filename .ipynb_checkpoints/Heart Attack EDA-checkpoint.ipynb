{
 "cells": [
  {
   "attachments": {},
   "cell_type": "markdown",
   "id": "6202f330",
   "metadata": {},
   "source": [
    "![Heart Attack](./misc/heart-attack-24.jpg \"Heart Attack\")\n",
    "\n",
    "<h1 align=\"center\"> Heart Attack - Exploratory Data Analysis</h1>"
   ]
  },
  {
   "cell_type": "markdown",
   "id": "292a97a1",
   "metadata": {},
   "source": [
    "1. [Introduction](#1)\n",
    "    - 1.1 [Data Dictionary](#2)\n",
    "    - 1.2 [Brief Explanation of Variables](#3)\n",
    "    - 1.3 [Task](#4)\n",
    "2. [Preparation](#5)\n",
    "    - 2.1 [Packages](#6)\n",
    "    - 2.2 [Data](#7)\n",
    "    - 2.3 [Understanding Data](#8)\n",
    "3. [Exploratory Data Analysis](#9)\n",
    "    - 3.1 [Univariate Analysis](#10)\n",
    "    - 3.2 [Bivariate Analysis](#11)\n",
    "4. [Conclusion](#12)\n",
    "    - 4.1 [Conclusions from the EDA](#13)\n",
    "5. [References](#13)"
   ]
  },
  {
   "cell_type": "markdown",
   "id": "2b6f4480",
   "metadata": {},
   "source": [
    "### 1. Introduction <a id=1></a>\n",
    "\n",
    "The dataset used in this notebook is from the [UC Irvine Machine Learning Repository](https://archive-beta.ics.uci.edu/ml/datasets/heart+disease)¹."
   ]
  },
  {
   "cell_type": "markdown",
   "id": "c49fb475",
   "metadata": {},
   "source": [
    "#### 1.1 Data Dictionary <a id=2></a>\n",
    "`age` - the patient's age\n",
    "\n",
    "`sex` - the patient's sex\n",
    "\n",
    "`cp` - Chest pain type: 0 = Typical Angina, 1 = Atypical Angina, 2 = Non-anginal Pain, 3 = Asymptomatic.\n",
    "\n",
    "`trtbps` - Resting blood pressure (mm/Hg)\n",
    "\n",
    "`chol` - Cholestorol in mg/dl\n",
    "\n",
    "`fbs` - (fasting blood sugar > 120 mg/dl) ~ 1 = True, 0 = False\n",
    "\n",
    "`restecg` - Resting electrocardiographic results: 0 = Normal, 1 = ST-T wave normality, 2 = Left ventricular hypertrophy\n",
    "\n",
    "`thalachh`  - Maximum heart rate achieved\n",
    "\n",
    "`oldpeak` - Previous peak\n",
    "\n",
    "`slp` - Slope\n",
    "\n",
    "`caa` - Number of major vessels \n",
    "\n",
    "`thall` - Thalium Stress Test result: (0,3)\n",
    "\n",
    "`exng` - Exercise induced angina ~ 1 = Yes, 0 = No\n",
    "\n",
    "`output` - Target variable"
   ]
  },
  {
   "cell_type": "markdown",
   "id": "3c802f92",
   "metadata": {},
   "source": [
    "#### 1.2 Brief Explanation of Variables <a id=3></a>\n",
    "\n",
    "This section provides a brief description on some of the variables, as some readers may not be aware of what some of the terms mean.\n",
    "\n",
    "`cp` is chest pain type, which mentions a word, \"**angina**.\" Angina is the medical term for chest pain.²\n",
    "\n",
    "`trtbps` is resting blood pressure, which is measured in a unit (mm/Hg). mm/Hg is millimeters of mercury.³\n",
    "\n",
    "`chol` - Refers to cholestorol, which is measured in a unit (mg/dl). mg/dl is milligrams per decilitre\n",
    "\n",
    "`restecg` - Refers to electrocardiographic (ECG) results. An ECG machine measures the electrical activity in the heart.\n",
    "\n",
    "`thall` - Refers to a thallium stress test. This test measures how well blood pumps to your heart while you're at rest or exercising."
   ]
  },
  {
   "cell_type": "markdown",
   "id": "9e8b3163",
   "metadata": {},
   "source": [
    "#### 1.3 Task <a id=4></a>\n"
   ]
  },
  {
   "cell_type": "code",
   "execution_count": null,
   "id": "b5174c0a",
   "metadata": {},
   "outputs": [],
   "source": []
  },
  {
   "cell_type": "code",
   "execution_count": null,
   "id": "b8595981",
   "metadata": {},
   "outputs": [],
   "source": []
  },
  {
   "cell_type": "markdown",
   "id": "5cea155f",
   "metadata": {},
   "source": [
    "### References\n",
    "\n",
    "https://archive-beta.ics.uci.edu/ml/datasets/heart+disease ¹\n",
    "\n",
    "https://www.heart.org/en/health-topics/heart-attack/angina-chest-pain ²\n",
    "\n",
    "https://www.healthline.com/health/high-blood-pressure-hypertension/blood-pressure-reading-explained ³"
   ]
  },
  {
   "cell_type": "code",
   "execution_count": null,
   "id": "a7e32077",
   "metadata": {},
   "outputs": [],
   "source": []
  }
 ],
 "metadata": {
  "kernelspec": {
   "display_name": "Python 3 (ipykernel)",
   "language": "python",
   "name": "python3"
  },
  "language_info": {
   "codemirror_mode": {
    "name": "ipython",
    "version": 3
   },
   "file_extension": ".py",
   "mimetype": "text/x-python",
   "name": "python",
   "nbconvert_exporter": "python",
   "pygments_lexer": "ipython3",
   "version": "3.9.7"
  }
 },
 "nbformat": 4,
 "nbformat_minor": 5
}
